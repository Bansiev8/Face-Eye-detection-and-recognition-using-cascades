{
 "cells": [
  {
   "cell_type": "code",
   "execution_count": 1,
   "metadata": {},
   "outputs": [],
   "source": [
    "import os\n",
    "import filetype as fp\n",
    "import sys\n",
    "from PIL import Image\n",
    "import numpy as np\n",
    "import cv2\n",
    "import pickle"
   ]
  },
  {
   "cell_type": "code",
   "execution_count": 2,
   "metadata": {},
   "outputs": [],
   "source": [
    "#print(__file__)\n",
    "#BASE_DIR = 'G:\\condapython\\face&eye'\n",
    "os.getcwd()\n",
    "sys.argv[0]\n",
    "#print(os.path.dirname(os.path.realpath('__file__')))\n",
    "base_dir = os.path.dirname(os.path.abspath('__file__'))\n",
    "img_dir = os.path.join(base_dir, \"images\")"
   ]
  },
  {
   "cell_type": "code",
   "execution_count": 3,
   "metadata": {},
   "outputs": [],
   "source": [
    "face_cascade = cv2.CascadeClassifier('cascades/data/haarcascade_frontalface_alt2.xml')\n",
    "#!pip install opencv_contrib_python\n",
    "#print(dir(cv2.face))\n",
    "recognizer = cv2.face.LBPHFaceRecognizer_create()"
   ]
  },
  {
   "cell_type": "code",
   "execution_count": 4,
   "metadata": {},
   "outputs": [],
   "source": [
    "current_id = 0\n",
    "label_id = {}\n",
    "x_train =[]\n",
    "y_labels = [] "
   ]
  },
  {
   "cell_type": "code",
   "execution_count": 5,
   "metadata": {},
   "outputs": [],
   "source": [
    "for root, dirs, files in os.walk(img_dir):\n",
    "    for file in files:\n",
    "        if file.endswith(\"png\")or file.endswith(\"jpg\"):\n",
    "            path = os.path.join(root, file)\n",
    "            label = os.path.basename(root).replace(\" \", \"-\").lower()\n",
    "            #print(label,path)\n",
    "            if not label in label_id:\n",
    "                label_id[label] = current_id\n",
    "                current_id+=1\n",
    "            id_ = label_id[label]\n",
    "            #print(label_id)\n",
    "            #x_train.append(path)\n",
    "            #y_labels.append(label)\n",
    "            pil_image = Image.open(path).convert(\"L\") # L turns into grayscale\n",
    "            image_array = np.array(pil_image).astype(\"uint8\")\n",
    "            #print(image_array)\n",
    "            faces = face_cascade.detectMultiScale(image_array, scaleFactor=1.5, minNeighbors=5)\n",
    "            \n",
    "            for (x,y,w,h) in faces:\n",
    "                roi = image_array[y:y+h, x:x+w]\n",
    "                x_train.append(roi)\n",
    "                y_labels.append(id_)\n",
    "#print(x_trains)\n",
    "#print(y_labels)\n",
    "\n",
    "with open(\"labels.pkl\", 'wb') as f:\n",
    "    pickle.dump(label_id, f)\n",
    "\n",
    "recognizer.train(x_train, np.array(y_labels))\n",
    "recognizer.save(\"trainer.yml\")\n",
    "    \n"
   ]
  },
  {
   "cell_type": "code",
   "execution_count": null,
   "metadata": {},
   "outputs": [],
   "source": []
  }
 ],
 "metadata": {
  "kernelspec": {
   "display_name": "Python 3",
   "language": "python",
   "name": "python3"
  },
  "language_info": {
   "codemirror_mode": {
    "name": "ipython",
    "version": 3
   },
   "file_extension": ".py",
   "mimetype": "text/x-python",
   "name": "python",
   "nbconvert_exporter": "python",
   "pygments_lexer": "ipython3",
   "version": "3.7.8"
  }
 },
 "nbformat": 4,
 "nbformat_minor": 4
}
